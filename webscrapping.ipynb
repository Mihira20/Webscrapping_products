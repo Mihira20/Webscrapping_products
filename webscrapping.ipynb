{
 "cells": [
  {
   "cell_type": "code",
   "execution_count": 3,
   "id": "55a2552a-6246-43f7-a352-24dd16b17d34",
   "metadata": {},
   "outputs": [],
   "source": [
    "# importing libraries\n",
    "\n",
    "from bs4 import BeautifulSoup\n",
    "import requests\n",
    "import smtplib\n",
    "import time\n",
    "import datetime"
   ]
  },
  {
   "cell_type": "code",
   "execution_count": 36,
   "id": "cec48252-5e98-4897-ae27-0d0dff4322ba",
   "metadata": {},
   "outputs": [
    {
     "name": "stdout",
     "output_type": "stream",
     "text": [
      "\n",
      "                    Caution I have no filter Funny sarcastic humor Short Sleeve T-Shirt\n",
      "                   \n",
      "\n",
      "\n",
      "\n",
      "\n",
      "                    $18.99\n",
      "                   \n",
      "\n",
      "\n",
      "\n",
      "\n",
      "\n",
      "                      $\n",
      "                     \n",
      "\n",
      "                      18\n",
      "                      \n",
      "                       .\n",
      "                      \n",
      "\n",
      "\n",
      "                      99\n",
      "                     \n",
      "\n",
      "\n",
      "\n",
      "\n",
      "\n",
      "\n",
      "\n",
      "\n",
      "\n",
      "\n",
      "\n",
      "\n"
     ]
    }
   ],
   "source": [
    "# we will be connecting to the website\n",
    "\n",
    "URL = 'https://www.amazon.com/Caution-filter-sarcastic-humor-T-Shirt/dp/B08Z59PB29?crid=19BRLDOIISQNC&customId=B0B5B47YMK&customizationToken=MC_Assembly_1%23B0B5B47YMK&dib=eyJ2IjoiMSJ9.N-ygqpB1uKPpuabWgb6u3TrL43-p0m_8URKC_Mlejpuy8d8UYa0tC2BMixP9Z0hcfvjLc6OCphFLeINYopi0frwV1OxHnfXOlvfhYsMSWpZPP6AZXEwi02PKq17mWB9TxHgj3l69_Icny3MjxZfFzU70A3B8bsKwNoNetOm1CCBHRW3NP0sYflp_EaiRopb_GQrud5tILXZl1SZMMmiZrrD40iiIrk5AtkL_IORnuWfhMqZbQaJUxhPqvcCklxQxWtoRhbdL0fhIRdmevvYZKSeE5scNYUal6Y8B0umCebDTpCAW59P4LPY4cQvCSwuGKC5nmyt-EyNMn_ysnRY0mUr5rTixTi8vMo9ISWiSEUaGXM-0spem7rXRwLehKVnxweeKSE5J4ZQ9sKp66osQJZXuovJ1OT4YQq22AqwcfB3vMBuqpWu05Gg7Zi6rkm6v.Y_uGG9g3CeX8IfGb2VX6hSXanBpWant0HqoTTr2jY5A&dib_tag=se&keywords=tshirts+shirts+for+women+funny&qid=1734219864&sprefix=tshirts+shirts+for+women+funy%2Caps%2C116&sr=8-11'\n",
    "\n",
    "#get useragent from : httpbin.org/get\n",
    "headers = {\"User-Agent\": \"Mozilla/5.0 (Windows NT 10.0; Win64; x64) AppleWebKit/537.36 (KHTML, like Gecko) Chrome/131.0.0.0 Safari/537.36\", \"Accept-Encoding\":\"gzip, deflate\", \"Accept\":\"text/html,application/xhtml+xml,application/xml;q=0.9,*/*;q=0.8\", \"DNT\":\"1\",\"Connection\":\"close\", \"Upgrade-Insecure-Requests\":\"1\"}\n",
    "\n",
    "page = requests.get(URL, headers=headers)\n",
    "\n",
    "soup1 = BeautifulSoup(page.content, \"html.parser\")\n",
    "\n",
    "soup2 = BeautifulSoup(soup1.prettify(), \"html.parser\")\n",
    "\n",
    "title = soup2.find(id='productTitle').get_text()\n",
    "\n",
    "price = soup2.find(id='corePriceDisplay_desktop_feature_div').get_text()\n",
    "\n",
    "print(title)\n",
    "print(price)\n"
   ]
  },
  {
   "cell_type": "code",
   "execution_count": 41,
   "id": "3a744d2f-4a32-4580-9262-93c79774525e",
   "metadata": {},
   "outputs": [
    {
     "data": {
      "text/plain": [
       "str"
      ]
     },
     "execution_count": 41,
     "metadata": {},
     "output_type": "execute_result"
    }
   ],
   "source": [
    "price = price.strip()[0:6]\n",
    "title = title.strip()\n",
    "\n",
    "type(price)\n",
    "type(title)"
   ]
  },
  {
   "cell_type": "code",
   "execution_count": 44,
   "id": "ed52ae17-2926-4203-ae0b-a33ec412d175",
   "metadata": {},
   "outputs": [
    {
     "name": "stdout",
     "output_type": "stream",
     "text": [
      "2024-12-15\n"
     ]
    }
   ],
   "source": [
    "import datetime\n",
    "today = datetime.date.today()\n",
    "print(today)"
   ]
  },
  {
   "cell_type": "code",
   "execution_count": 45,
   "id": "c8640c63-f2c4-4ee7-bc24-b6cb21a83c82",
   "metadata": {},
   "outputs": [],
   "source": [
    "import csv\n",
    "\n",
    "header = ['Title', 'Price', 'Date']\n",
    "\n",
    "#currently data is in string format and we want it to be list \n",
    "data = [title, price, today]\n",
    "\n",
    "#lets create a csv\n",
    "with open('AzWebScrapper.csv', 'w', newline='', encoding='UTF8') as f:\n",
    "    writer = csv.writer(f)\n",
    "    writer.writerow(header)\n",
    "    writer.writerow(data)\n",
    "\n"
   ]
  },
  {
   "cell_type": "code",
   "execution_count": 53,
   "id": "d829fe26-062a-4f10-a598-e410298fac6e",
   "metadata": {},
   "outputs": [
    {
     "name": "stdout",
     "output_type": "stream",
     "text": [
      "                                               Title   Price        Date\n",
      "0  Caution I have no filter Funny sarcastic humor...  $18.99  2024-12-15\n",
      "1  Caution I have no filter Funny sarcastic humor...  $18.99  2024-12-15\n"
     ]
    }
   ],
   "source": [
    "import pandas as pd\n",
    "df = pd.read_csv(\"C:/Users/91951/Dropbox/My PC (DESKTOP-1LFT49K)/Desktop/DA/webscrapping/Webscrapping_products/AzWebScrapper.csv\")\n",
    "\n",
    "print(df)"
   ]
  },
  {
   "cell_type": "code",
   "execution_count": 52,
   "id": "eaa9966d-0a10-4819-95bf-a7a1ce412392",
   "metadata": {},
   "outputs": [],
   "source": [
    "#lets append data to csv files now\n",
    "\n",
    "with open('AzWebScrapper.csv', 'a+', newline='', encoding='UTF8') as f:\n",
    "    writer = csv.writer(f)\n",
    "    writer.writerow(data)\n"
   ]
  },
  {
   "cell_type": "code",
   "execution_count": 55,
   "id": "c67a6182-092c-4f37-a8ea-bc3cc31b6693",
   "metadata": {},
   "outputs": [],
   "source": [
    "def check_price():\n",
    "    URL = 'https://www.amazon.com/Caution-filter-sarcastic-humor-T-Shirt/dp/B08Z59PB29?crid=19BRLDOIISQNC&customId=B0B5B47YMK&customizationToken=MC_Assembly_1%23B0B5B47YMK&dib=eyJ2IjoiMSJ9.N-ygqpB1uKPpuabWgb6u3TrL43-p0m_8URKC_Mlejpuy8d8UYa0tC2BMixP9Z0hcfvjLc6OCphFLeINYopi0frwV1OxHnfXOlvfhYsMSWpZPP6AZXEwi02PKq17mWB9TxHgj3l69_Icny3MjxZfFzU70A3B8bsKwNoNetOm1CCBHRW3NP0sYflp_EaiRopb_GQrud5tILXZl1SZMMmiZrrD40iiIrk5AtkL_IORnuWfhMqZbQaJUxhPqvcCklxQxWtoRhbdL0fhIRdmevvYZKSeE5scNYUal6Y8B0umCebDTpCAW59P4LPY4cQvCSwuGKC5nmyt-EyNMn_ysnRY0mUr5rTixTi8vMo9ISWiSEUaGXM-0spem7rXRwLehKVnxweeKSE5J4ZQ9sKp66osQJZXuovJ1OT4YQq22AqwcfB3vMBuqpWu05Gg7Zi6rkm6v.Y_uGG9g3CeX8IfGb2VX6hSXanBpWant0HqoTTr2jY5A&dib_tag=se&keywords=tshirts+shirts+for+women+funny&qid=1734219864&sprefix=tshirts+shirts+for+women+funy%2Caps%2C116&sr=8-11'\n",
    "\n",
    "#get useragent from : httpbin.org/get\n",
    "    headers = {\"User-Agent\": \"Mozilla/5.0 (Windows NT 10.0; Win64; x64) AppleWebKit/537.36 (KHTML, like Gecko) Chrome/131.0.0.0 Safari/537.36\", \"Accept-Encoding\":\"gzip, deflate\", \"Accept\":\"text/html,application/xhtml+xml,application/xml;q=0.9,*/*;q=0.8\", \"DNT\":\"1\",\"Connection\":\"close\", \"Upgrade-Insecure-Requests\":\"1\"}\n",
    "\n",
    "    page = requests.get(URL, headers=headers)\n",
    "\n",
    "    soup1 = BeautifulSoup(page.content, \"html.parser\")\n",
    "\n",
    "    soup2 = BeautifulSoup(soup1.prettify(), \"html.parser\")\n",
    "\n",
    "    title = soup2.find(id='productTitle').get_text()\n",
    "\n",
    "    price = soup2.find(id='corePriceDisplay_desktop_feature_div').get_text()\n",
    "    price = price.strip()[0:6]\n",
    "    title = title.strip()\n",
    "    import datetime\n",
    "    today = datetime.date.today()\n",
    "\n",
    "    import csv\n",
    "\n",
    "    header = ['Title', 'Price', 'Date']\n",
    "\n",
    "#currently data is in string format and we want it to be list \n",
    "    data = [title, price, today]\n",
    "\n",
    "#lets create a csv\n",
    "    with open('AzWebScrapper.csv', 'a+', newline='', encoding='UTF8') as f:\n",
    "       writer = csv.writer(f)\n",
    "       writer.writerow(data)\n",
    "\n"
   ]
  },
  {
   "cell_type": "code",
   "execution_count": 58,
   "id": "3056af4d-5b63-4453-9934-32373c2de5cf",
   "metadata": {},
   "outputs": [
    {
     "ename": "KeyboardInterrupt",
     "evalue": "",
     "output_type": "error",
     "traceback": [
      "\u001b[1;31m---------------------------------------------------------------------------\u001b[0m",
      "\u001b[1;31mKeyboardInterrupt\u001b[0m                         Traceback (most recent call last)",
      "Cell \u001b[1;32mIn[58], line 3\u001b[0m\n\u001b[0;32m      1\u001b[0m \u001b[38;5;28;01mwhile\u001b[39;00m(\u001b[38;5;28;01mTrue\u001b[39;00m):\n\u001b[0;32m      2\u001b[0m     check_price()\n\u001b[1;32m----> 3\u001b[0m     time\u001b[38;5;241m.\u001b[39msleep(\u001b[38;5;241m5\u001b[39m)\n",
      "\u001b[1;31mKeyboardInterrupt\u001b[0m: "
     ]
    }
   ],
   "source": [
    "while(True):\n",
    "    check_price()\n",
    "    time.sleep(5)"
   ]
  },
  {
   "cell_type": "code",
   "execution_count": 59,
   "id": "45e3b43d-464e-4279-a0c8-0ff9439c23ac",
   "metadata": {},
   "outputs": [
    {
     "name": "stdout",
     "output_type": "stream",
     "text": [
      "                                               Title   Price        Date\n",
      "0  Caution I have no filter Funny sarcastic humor...  $18.99  2024-12-15\n",
      "1  Caution I have no filter Funny sarcastic humor...  $18.99  2024-12-15\n",
      "2  Caution I have no filter Funny sarcastic humor...  $18.99  2024-12-16\n",
      "3  Caution I have no filter Funny sarcastic humor...  $18.99  2024-12-16\n"
     ]
    }
   ],
   "source": [
    "import pandas as pd\n",
    "df = pd.read_csv(\"C:/Users/91951/Dropbox/My PC (DESKTOP-1LFT49K)/Desktop/DA/webscrapping/Webscrapping_products/AzWebScrapper.csv\")\n",
    "\n",
    "print(df)"
   ]
  },
  {
   "cell_type": "code",
   "execution_count": null,
   "id": "492dd267-5f0f-45f9-9aee-66b2ae8823fe",
   "metadata": {},
   "outputs": [],
   "source": []
  }
 ],
 "metadata": {
  "kernelspec": {
   "display_name": "Python 3 (ipykernel)",
   "language": "python",
   "name": "python3"
  },
  "language_info": {
   "codemirror_mode": {
    "name": "ipython",
    "version": 3
   },
   "file_extension": ".py",
   "mimetype": "text/x-python",
   "name": "python",
   "nbconvert_exporter": "python",
   "pygments_lexer": "ipython3",
   "version": "3.11.7"
  }
 },
 "nbformat": 4,
 "nbformat_minor": 5
}
